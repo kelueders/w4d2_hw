{
 "cells": [
  {
   "cell_type": "markdown",
   "metadata": {},
   "source": [
    "# Algorithms and Time Complexity"
   ]
  },
  {
   "cell_type": "markdown",
   "metadata": {},
   "source": [
    "## Tasks Today:\n",
    " \n",
    "1) <b>In-Place Algorithms</b> <br>\n",
    " &nbsp;&nbsp;&nbsp;&nbsp; a) Syntax <br>\n",
    " &nbsp;&nbsp;&nbsp;&nbsp; a) Out of Place Algorithm <br>\n",
    " &nbsp;&nbsp;&nbsp;&nbsp; b) In-Class Exercise #1 <br>\n",
    "2) <b>Two Pointers</b> <br>\n",
    "3) <b>Linked Lists</b> <br>\n",
    "4) <b>Merge Sort</b> <br>\n",
    " &nbsp;&nbsp;&nbsp;&nbsp; a) Video on Algorithms <br>\n",
    " &nbsp;&nbsp;&nbsp;&nbsp; b) How it Works <br>\n",
    "5) <b>Exercises</b> <br>\n",
    " &nbsp;&nbsp;&nbsp;&nbsp; a) Exercise #1 - Reverse a List in Place Using an In-Place Algorithm <br>\n",
    " &nbsp;&nbsp;&nbsp;&nbsp; b) Exercise #2 - Find Distinct Words <br>\n",
    " &nbsp;&nbsp;&nbsp;&nbsp; c) Exercise #3 - Write a program to implement a Linear Search Algorithm. <br>"
   ]
  },
  {
   "cell_type": "markdown",
   "metadata": {},
   "source": [
    "## In-Place Algorithms"
   ]
  },
  {
   "cell_type": "markdown",
   "metadata": {},
   "source": [
    "#### Syntax"
   ]
  },
  {
   "cell_type": "code",
   "execution_count": 2,
   "metadata": {},
   "outputs": [
    {
     "name": "stdout",
     "output_type": "stream",
     "text": [
      "Before swap: [10, 20]\n",
      "After Swap: [20, 10]\n"
     ]
    }
   ],
   "source": [
    "#swap locations by index in a list\n",
    "#sometimes known as a swap algorithm\n",
    "# arr[i], arr[i+1] = arr[i+1], arr[i]\n",
    "\n",
    "def swap(alist, x, y):\n",
    "    alist[x], alist[y] = alist[y], alist[x]\n",
    "    return alist\n",
    "my_list = [10, 20]\n",
    "\n",
    "print(f\"Before swap: {my_list}\")\n",
    "swap(my_list, 0, 1)\n",
    "print(f\"After Swap: {my_list}\")"
   ]
  },
  {
   "cell_type": "code",
   "execution_count": 3,
   "metadata": {},
   "outputs": [
    {
     "name": "stdout",
     "output_type": "stream",
     "text": [
      "Before swap: [10, 20, 30, 40]\n",
      "After Swap: [40, 20, 10, 30]\n"
     ]
    }
   ],
   "source": [
    "def swap(alist, w, x, y, z):\n",
    "    alist[w], alist[x], alist[y], alist[z] = alist[z], alist[x], alist[w], alist[y]\n",
    "    return alist\n",
    "    \n",
    "my_list = [10, 20, 30, 40]\n",
    "print(f\"Before swap: {my_list}\")\n",
    "swap(my_list, 0, 1, 2, 3)\n",
    "print(f\"After Swap: {my_list}\")\n",
    "\n",
    "# .sort() alters the original list"
   ]
  },
  {
   "cell_type": "markdown",
   "metadata": {},
   "source": [
    "#### Out of Place Algorithm"
   ]
  },
  {
   "cell_type": "code",
   "execution_count": 28,
   "metadata": {},
   "outputs": [
    {
     "name": "stdout",
     "output_type": "stream",
     "text": [
      "[1, 2, 3, 4, 5]\n",
      "[5, 4, 3, 2, 1]\n",
      "before: ['a', 'a', 'a', 'a']\n",
      "After: ['d', 'c', 'b', 'a']\n"
     ]
    }
   ],
   "source": [
    "# not swapping, reversing the list\n",
    "# But also copies to another place in memory\n",
    "# out of place reverse list copy\n",
    "my_list = [1, 2, 3, 4, 5]\n",
    "my_list2 = my_list[::-1]\n",
    "\n",
    "print(my_list)\n",
    "print(my_list2)"
   ]
  },
  {
   "cell_type": "code",
   "execution_count": 27,
   "metadata": {},
   "outputs": [
    {
     "name": "stdout",
     "output_type": "stream",
     "text": [
      "before: ['a', 'a', 'a', 'a']\n",
      "After: ['d', 'c', 'b', 'a']\n"
     ]
    }
   ],
   "source": [
    "array = ['a', 'b', 'c', 'd']\n",
    "# print(len(array))\n",
    "new_array = ['a'] * len(array)  # need to create space for a new array so there isn't an indexing error\n",
    "print(f\"before: {new_array}\")\n",
    "length = len(array) - 1       \n",
    "for i in range(length):\n",
    "    new_array[i] = array[length-i]\n",
    "    \n",
    "array = new_array\n",
    "print(f\"After: {array}\")\n",
    "\n",
    "# sorted() create space for a new, sorted list"
   ]
  },
  {
   "cell_type": "markdown",
   "metadata": {},
   "source": [
    "#### In-Class Exercise #1 <br>\n",
    "<p>Write a function that takes in four arguments (list, index1, index2, index3), and swaps those three positions in the list passed in.</p>"
   ]
  },
  {
   "cell_type": "code",
   "execution_count": 9,
   "metadata": {},
   "outputs": [
    {
     "data": {
      "text/plain": [
       "[12, 123, 445, 45]"
      ]
     },
     "execution_count": 9,
     "metadata": {},
     "output_type": "execute_result"
    }
   ],
   "source": [
    "def swap(array, index1, index2, index3):\n",
    "    array[index1], array[index2], array[index3] = array[index3], array[index1], array[index2]\n",
    "    return array\n",
    "\n",
    "my_list = [123, 445, 12, 45]\n",
    "swap(my_list, 0, 1, 2)"
   ]
  },
  {
   "cell_type": "markdown",
   "metadata": {},
   "source": [
    "## Two Pointers"
   ]
  },
  {
   "cell_type": "markdown",
   "metadata": {},
   "source": [
    "#### Syntax"
   ]
  },
  {
   "cell_type": "code",
   "execution_count": 10,
   "metadata": {},
   "outputs": [
    {
     "data": {
      "text/plain": [
       "[22, 11, 4, 8, 9, 12, 3, 2, 1]"
      ]
     },
     "execution_count": 10,
     "metadata": {},
     "output_type": "execute_result"
    }
   ],
   "source": [
    "# alist[left], alist[right] = alist[right], alist[left]\n",
    "# use two pointesr to swap, can use a while loop in most cases\n",
    "# the list must be sorted\n",
    "\n",
    "def two_pointer_swap(alist):\n",
    "    # alist.sort() if you need it sorted, but it will increase time complexity\n",
    "    # create pointers for the list\n",
    "    left = 0   # index 0 left pointer\n",
    "    right = len(alist) - 1  # index last index, has to subtract 1 so it can be used as an index since indices start at 0\n",
    "    \n",
    "    while left <= right:\n",
    "        alist[left], alist[right] = alist[right], alist[left]\n",
    "        left += 1\n",
    "        right -= 1\n",
    "    \n",
    "    return alist\n",
    "\n",
    "my_list = [1,2,3,12,9,8,4,11,22]\n",
    "two_pointer_swap(my_list)"
   ]
  },
  {
   "cell_type": "markdown",
   "metadata": {},
   "source": [
    "#### Video of Algorithms <br>\n",
    "<p>Watch the video about algorithms.</p>\n",
    "\n",
    "https://www.youtube.com/watch?v=Q9HjeFD62Uk\n",
    "\n",
    "https://www.youtube.com/watch?v=kPRA0W1kECg\n",
    "\n",
    "https://www.youtube.com/watch?v=ZZuD6iUe3Pc"
   ]
  },
  {
   "cell_type": "markdown",
   "metadata": {},
   "source": [
    "# Sorting Algorithms"
   ]
  },
  {
   "cell_type": "code",
   "execution_count": null,
   "metadata": {},
   "outputs": [],
   "source": [
    "# Time complexity\n",
    "# how many actions have to happen per itms it akes as inputs\n"
   ]
  },
  {
   "cell_type": "markdown",
   "metadata": {},
   "source": [
    "#### Bubble Sort\n",
    "\n",
    "Worst Case: O(n^2) Time - O(1) Space"
   ]
  },
  {
   "cell_type": "code",
   "execution_count": 12,
   "metadata": {},
   "outputs": [
    {
     "data": {
      "text/plain": [
       "[1, 22, 34, 44, 55, 66, 88, 100]"
      ]
     },
     "execution_count": 12,
     "metadata": {},
     "output_type": "execute_result"
    }
   ],
   "source": [
    "# Best Case Linear\n",
    "# Worst Case Quadratic\n",
    "# here we have a for loop inside a while loop\n",
    "\n",
    "def swap(i, j, array):\n",
    "    array[i], array[j] = array[j], array [i]\n",
    "    \n",
    "def bubble_sort(array):\n",
    "    is_sorted = False   #   <-- flag\n",
    "    while not is_sorted:\n",
    "        is_sorted = True                   # ??is there any way to do it without doing a double negative?\n",
    "        for num in range(len(array) - 1):\n",
    "            if array[num] > array[num + 1]:\n",
    "                swap(num, num + 1, array)\n",
    "                is_sorted = False\n",
    "    return array\n",
    "        \n",
    "\n",
    "my_array = [100, 88, 22, 55, 44, 1, 34, 66]\n",
    "bubble_sort(my_array)"
   ]
  },
  {
   "cell_type": "markdown",
   "metadata": {},
   "source": [
    "##### Insertion Sort\n",
    "\n",
    "Worst Case: O(n^2) time - O(1)space"
   ]
  },
  {
   "cell_type": "code",
   "execution_count": null,
   "metadata": {},
   "outputs": [],
   "source": [
    "# here we have a while loop inside of a for loop\n",
    "def swap(i, j, array):\n",
    "    array[i], array[j] = array[j], array[i]\n",
    "\n",
    "def insertion_sort(array):\n",
    "    for i in range(1, len(array)):  # considers index 0 already sorted\n",
    "        # make sure we don't go before index 0\n",
    "        j = i\n",
    "        while j > 0 and array[j] < array[j - 1]:\n",
    "            swap(j, j - 1, array)\n",
    "            j -= 1\n",
    "    return array\n",
    "            \n",
    "            "
   ]
  },
  {
   "cell_type": "markdown",
   "metadata": {},
   "source": [
    "## Merge Sort"
   ]
  },
  {
   "cell_type": "markdown",
   "metadata": {},
   "source": [
    "#### How it Works"
   ]
  },
  {
   "cell_type": "code",
   "execution_count": 19,
   "metadata": {},
   "outputs": [
    {
     "name": "stdout",
     "output_type": "stream",
     "text": [
      "Splitting [100, 88, 22, 55, 44, 1, 34, 66]\n",
      "Splitting [100, 88, 22, 55]\n",
      "Splitting [100, 88]\n",
      "Splitting [100]\n",
      "Merging:  [100]\n",
      "Splitting [88]\n",
      "Merging:  [88]\n",
      "Merging:  [88, 100]\n",
      "Splitting [22, 55]\n",
      "Splitting [22]\n",
      "Merging:  [22]\n",
      "Splitting [55]\n",
      "Merging:  [55]\n",
      "Merging:  [22, 55]\n",
      "Merging:  [22, 55, 88, 100]\n",
      "Splitting [44, 1, 34, 66]\n",
      "Splitting [44, 1]\n",
      "Splitting [44]\n",
      "Merging:  [44]\n",
      "Splitting [1]\n",
      "Merging:  [1]\n",
      "Merging:  [1, 44]\n",
      "Splitting [34, 66]\n",
      "Splitting [34]\n",
      "Merging:  [34]\n",
      "Splitting [66]\n",
      "Merging:  [66]\n",
      "Merging:  [34, 66]\n",
      "Merging:  [1, 34, 44, 66]\n",
      "Merging:  [1, 22, 34, 44, 55, 66, 88, 100]\n"
     ]
    },
    {
     "data": {
      "text/plain": [
       "[1, 22, 34, 44, 55, 66, 88, 100]"
      ]
     },
     "execution_count": 19,
     "metadata": {},
     "output_type": "execute_result"
    }
   ],
   "source": [
    "# Step 1: Split Everything into its own group\n",
    "# Step 2: From left to right merge two groups together\n",
    "# STep 3: While merging, place each item in its correct position within the merged group\n",
    "# Step 4: Repeat step 3 until one group is left\n",
    "\n",
    "from random import randint\n",
    "\n",
    "my_array = [100, 88, 22, 55, 44, 1, 34, 66]\n",
    "# nums = [randint(0, 20) for i in range(9)]\n",
    "\n",
    "def merge_sort(alist):\n",
    "    print(\"Splitting\", alist)\n",
    "    \n",
    "    # step 1: split everything into its own group, as equally as possible\n",
    "    if len(alist) > 1:\n",
    "        mid = len(alist) // 2\n",
    "        left_half = alist[:mid]     # we're taking up more space as a trade-off for time\n",
    "        right_half = alist[mid:]    # this is often a good trade-off\n",
    "        \n",
    "        # recursively call merge_sort to perform splits if needed\n",
    "        # then merge once we're done splitting\n",
    "        merge_sort(left_half)\n",
    "        merge_sort(right_half)\n",
    "        \n",
    "        # index pointers for list\n",
    "        l = 0  # left half pointer\n",
    "        r = 0 # right half pointer\n",
    "        m = 0 # main array pointer\n",
    "        \n",
    "        # step 2: compare the left half with the right half\n",
    "        while l < len(left_half) and r < len(right_half):\n",
    "            if left_half[l] < right_half[r]:\n",
    "                alist[m] = left_half[l]   # put the left half back in there\n",
    "                l += 1\n",
    "            else:\n",
    "                alist[m] = right_half[r]\n",
    "                r += 1\n",
    "            m += 1\n",
    "        \n",
    "        # step 3: while merging, place items in correct position\n",
    "        while l < len(left_half):\n",
    "            alist[m] = left_half[l]\n",
    "            l += 1\n",
    "            m += 1\n",
    "        \n",
    "        while r < len(right_half):\n",
    "            alist[m] = right_half[r]\n",
    "            r += 1\n",
    "            m += 1\n",
    "            \n",
    "    print(\"Merging: \", alist)\n",
    "    return alist\n",
    "\n",
    "merge_sort(my_array)"
   ]
  },
  {
   "cell_type": "markdown",
   "metadata": {},
   "source": [
    "# Binary Search\n",
    "\n",
    "The Binary Search algorithm works by finding the number in the middle of a given array and comparing it to the target. Only works with sorted lists!!!!\n",
    "\n",
    "* The worst case run time for this algorithm is `O(log(n))`\n",
    "\n",
    "So if you see a question that says “given the sorted list find the target\", your first thought should be binary search!"
   ]
  },
  {
   "cell_type": "code",
   "execution_count": 15,
   "metadata": {},
   "outputs": [
    {
     "data": {
      "text/plain": [
       "'The index is...1'"
      ]
     },
     "execution_count": 15,
     "metadata": {},
     "output_type": "execute_result"
    }
   ],
   "source": [
    "# Less goes to the left\n",
    "# Greater goes to the right\n",
    "# List of numbers must be sorted\n",
    "\n",
    "def binary_search(array, target, left, right):\n",
    "    while left < right:\n",
    "        middle = (left + right // 2 )\n",
    "        potential_match = array[middle]\n",
    "        if target == potential_match:\n",
    "            return f\"The index is...{middle}\"\n",
    "        elif target < potential_match:\n",
    "            right = middle - 1\n",
    "        else: \n",
    "            left = middle + 1\n",
    "    return -1\n",
    "\n",
    "def binary_helper(array, target):\n",
    "    return binary_search(array, target, 0, len(array) - 1)\n",
    "\n",
    "binary_helper([1, 22, 34, 44, 55, 66, 88, 100], 22)\n"
   ]
  },
  {
   "cell_type": "code",
   "execution_count": 64,
   "metadata": {},
   "outputs": [
    {
     "name": "stdout",
     "output_type": "stream",
     "text": [
      "1 Tokyo\n",
      "2 New York\n",
      "3 London\n",
      "4 Los Angeles\n"
     ]
    }
   ],
   "source": [
    "cities = ['Tokyo','New York','London','Los Angeles']\n",
    "\n",
    "for i, city in enumerate(cities, start=1):\n",
    "    print(i, city)"
   ]
  },
  {
   "cell_type": "markdown",
   "metadata": {},
   "source": [
    "# Exercises"
   ]
  },
  {
   "cell_type": "markdown",
   "metadata": {},
   "source": [
    "### Exercise #1 <br>\n",
    "<p>Reverse the list below in-place using an in-place algorithm.<br>For extra credit: Reverse the strings at the same time.</p>"
   ]
  },
  {
   "cell_type": "code",
   "execution_count": 23,
   "metadata": {},
   "outputs": [
    {
     "name": "stdout",
     "output_type": "stream",
     "text": [
      "['.', 'sentence', 'a', 'is', 'this']\n"
     ]
    }
   ],
   "source": [
    "words = ['this' , 'is', 'a', 'sentence', '.']\n",
    "\n",
    "def reverse(words):\n",
    "    words[0], words[1], words[2], words[3], words[4] = words[4], words[3], words[2], words[1], words[0]\n",
    "    return words\n",
    "\n",
    "print(reverse(words))"
   ]
  },
  {
   "cell_type": "code",
   "execution_count": null,
   "metadata": {},
   "outputs": [],
   "source": [
    "words = ['this' , 'is', 'a', 'sentence', '.']\n",
    "\n",
    "def reverse2(words):\n",
    "    "
   ]
  },
  {
   "cell_type": "markdown",
   "metadata": {},
   "source": [
    "### Exercise #2 <br>\n",
    "<p>Create a function that counts how many distinct words are in the string below, then outputs a dictionary with the words as the key and the value as the amount of times that word appears in the string.<br>Should output:<br>{'a': 5,<br>\n",
    " 'abstract': 1,<br>\n",
    " 'an': 3,<br>\n",
    " 'array': 2, ... etc...</p>"
   ]
  },
  {
   "cell_type": "code",
   "execution_count": 63,
   "metadata": {},
   "outputs": [
    {
     "name": "stdout",
     "output_type": "stream",
     "text": [
      "{'a': 5, 'abstract': 1, 'an': 3, 'array': 2, 'associative': 1, 'be': 1, 'buckets': 1, 'can': 2, 'compute': 1, 'computing,': 1, 'data': 2, 'desired': 1, 'found': 1, 'from': 1, 'function': 1, 'hash': 4, 'implements': 1, 'in': 1, 'index': 1, 'into': 1, 'is': 1, 'keys': 1, 'map': 2, 'of': 1, 'or': 1, 'slots': 1, 'structure': 2, 'table': 2, 'that': 1, 'the': 1, 'to': 2, 'type,': 1, 'uses': 1, 'value': 1, 'values.': 1, 'which': 2}\n"
     ]
    }
   ],
   "source": [
    "# SOLUTION 1 - using .count()\n",
    "\n",
    "a_text = 'In computing, a hash table hash map is a data structure which implements an associative array abstract data type, a structure that can map keys to values. A hash table uses a hash function to compute an index into an array of buckets or slots from which the desired value can be found'\n",
    "\n",
    "# input: string\n",
    "# output: dictionary with key: word, value: number of times it appears\n",
    "\n",
    "def distinct_words(text):\n",
    "    my_dict = {}\n",
    "    text_list = text.split(\" \")\n",
    "    word_lower = [x.lower() for x in text_list]\n",
    "    word_lower = sorted(word_lower)\n",
    "    for word in word_lower:\n",
    "        my_dict[word] = word_lower.count(word)\n",
    "    return my_dict\n",
    "\n",
    "print(distinct_words(a_text))"
   ]
  },
  {
   "cell_type": "code",
   "execution_count": 11,
   "metadata": {},
   "outputs": [
    {
     "name": "stdout",
     "output_type": "stream",
     "text": [
      "{'a': 5, 'abstract': 1, 'an': 3, 'array': 2, 'associative': 1, 'be': 1, 'buckets': 1, 'can': 2, 'compute': 1, 'computing,': 1, 'data': 2, 'desired': 1, 'found': 1, 'from': 1, 'function': 1, 'hash': 4, 'implements': 1, 'in': 1, 'index': 1, 'into': 1, 'is': 1, 'keys': 1, 'map': 2, 'of': 1, 'or': 1, 'slots': 1, 'structure': 2, 'table': 2, 'that': 1, 'the': 1, 'to': 2, 'type,': 1, 'uses': 1, 'value': 1, 'values.': 1, 'which': 2}\n"
     ]
    }
   ],
   "source": [
    "# SOLUTION 2 - using counter dictionary\n",
    "\n",
    "a_text = 'In computing, a hash table hash map is a data structure which implements an associative array abstract data type, a structure that can map keys to values. A hash table uses a hash function to compute an index into an array of buckets or slots from which the desired value can be found'\n",
    "b_text = \"The black fox runs and the red fox runs\"\n",
    "\n",
    "# input: string\n",
    "# output: dictionary with key: word, value: number of times it appears\n",
    "\n",
    "def distinct_words(text):\n",
    "    my_dict = {}\n",
    "    text_list = text.split(\" \")\n",
    "    word_lower = sorted([x.lower() for x in text_list])\n",
    "    for word in word_lower:\n",
    "        if word in my_dict.keys():\n",
    "            my_dict[word] += 1\n",
    "        else:\n",
    "            my_dict[word] = 1\n",
    "    return my_dict\n",
    "\n",
    "print(distinct_words(a_text))"
   ]
  },
  {
   "cell_type": "markdown",
   "metadata": {},
   "source": [
    "## Exercise #3\n",
    "\n",
    "<p>Use binary search to return the index of the target num</p>\n",
    "\n"
   ]
  },
  {
   "cell_type": "code",
   "execution_count": 22,
   "metadata": {},
   "outputs": [
    {
     "data": {
      "text/plain": [
       "'The index of 123 in the list is 7'"
      ]
     },
     "execution_count": 22,
     "metadata": {},
     "output_type": "execute_result"
    }
   ],
   "source": [
    "cool_list = [2, 5, 6, 12, 45, 47, 98, 123, 1000]\n",
    "target = 123\n",
    "\n",
    "def binary_search(arr, target):\n",
    "    left = 0\n",
    "    right = len(arr) - 1\n",
    "    while left < right:  \n",
    "        middle = (left + right) // 2\n",
    "        maybe_match = arr[middle]\n",
    "        if maybe_match == target:\n",
    "            return f\"The index of {target} in the list is {middle}\"\n",
    "        elif target < maybe_match:\n",
    "            right = middle - 1\n",
    "        else:\n",
    "            left = middle + 1\n",
    "        \n",
    "binary_search(cool_list, 123)"
   ]
  }
 ],
 "metadata": {
  "kernelspec": {
   "display_name": "Python 3 (ipykernel)",
   "language": "python",
   "name": "python3"
  },
  "language_info": {
   "codemirror_mode": {
    "name": "ipython",
    "version": 3
   },
   "file_extension": ".py",
   "mimetype": "text/x-python",
   "name": "python",
   "nbconvert_exporter": "python",
   "pygments_lexer": "ipython3",
   "version": "3.10.11"
  }
 },
 "nbformat": 4,
 "nbformat_minor": 2
}
